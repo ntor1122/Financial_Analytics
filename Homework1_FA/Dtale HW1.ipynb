{
 "cells": [
  {
   "cell_type": "code",
   "execution_count": 2,
   "metadata": {},
   "outputs": [],
   "source": [
    "import os\n",
    "import pandas as pd\n",
    "from dython.nominal import associations\n",
    "import dtale\n",
    "import numpy as np\n",
    "import seaborn as sns #for complex plot eg count, hist plots, pair plot cont broken down by categorical color\n",
    "import matplotlib.pyplot as plt #for simple plots\n",
    "%matplotlib inline\n",
    "\n",
    "# Display settings\n",
    "pd.set_option('display.max_rows', 100)\n",
    "pd.set_option('display.max_columns', 50)\n",
    "from IPython.core.interactiveshell import InteractiveShell\n",
    "InteractiveShell.act_node_interactivity = 'all'\n",
    "import warnings\n",
    "warnings.filterwarnings('ignore')\n"
   ]
  },
  {
   "cell_type": "code",
   "execution_count": 3,
   "metadata": {},
   "outputs": [
    {
     "data": {
      "text/plain": [
       "'c:\\\\Users\\\\njtor\\\\Nishad\\\\Education\\\\Data Science\\\\NCSU\\\\Spring 1\\\\Financial Analytics\\\\Homework1_FA'"
      ]
     },
     "execution_count": 3,
     "metadata": {},
     "output_type": "execute_result"
    }
   ],
   "source": [
    "os.getcwd()\n",
    "# os.chdir(r'C:\\Users\\njtor\\Nishad\\Education\\Data Science\\NCSU\\Spring 1\\Financial Analytics\\Homework1_FA\\accpted_customers.csv')"
   ]
  },
  {
   "cell_type": "code",
   "execution_count": 4,
   "metadata": {},
   "outputs": [],
   "source": [
    "df = pd.read_csv(\"accepted_customers.csv\")"
   ]
  },
  {
   "cell_type": "code",
   "execution_count": 5,
   "metadata": {},
   "outputs": [
    {
     "data": {
      "text/html": [
       "\n",
       "        <iframe\n",
       "            width=\"100%\"\n",
       "            height=\"475\"\n",
       "            src=\"http://NT1122:40000/dtale/iframe/1\"\n",
       "            frameborder=\"0\"\n",
       "            allowfullscreen\n",
       "            \n",
       "        ></iframe>\n",
       "        "
      ],
      "text/plain": [
       "<IPython.lib.display.IFrame at 0x1dcf942f8b0>"
      ]
     },
     "metadata": {},
     "output_type": "display_data"
    },
    {
     "data": {
      "text/plain": []
     },
     "execution_count": 5,
     "metadata": {},
     "output_type": "execute_result"
    },
    {
     "name": "stderr",
     "output_type": "stream",
     "text": [
      "2023-01-17 13:38:16,548 - WARNING  - findfont: Font family ['Heiti TC'] not found. Falling back to DejaVu Sans.\n",
      "2023-01-17 13:38:16,697 - WARNING  - findfont: Font family ['Heiti TC'] not found. Falling back to DejaVu Sans.\n",
      "2023-01-17 13:38:16,757 - WARNING  - findfont: Font family ['Heiti TC'] not found. Falling back to DejaVu Sans.\n",
      "2023-01-17 13:38:16,804 - WARNING  - findfont: Font family ['Heiti TC'] not found. Falling back to DejaVu Sans.\n",
      "2023-01-17 13:38:44,482 - WARNING  - findfont: Font family ['Heiti TC'] not found. Falling back to DejaVu Sans.\n"
     ]
    },
    {
     "name": "stdout",
     "output_type": "stream",
     "text": [
      "Executing shutdown due to inactivity...\n"
     ]
    },
    {
     "name": "stderr",
     "output_type": "stream",
     "text": [
      "2023-01-17 16:50:23,782 - INFO     - Executing shutdown due to inactivity...\n"
     ]
    },
    {
     "name": "stdout",
     "output_type": "stream",
     "text": [
      "Executing shutdown...\n"
     ]
    },
    {
     "name": "stderr",
     "output_type": "stream",
     "text": [
      "2023-01-17 16:50:24,154 - INFO     - Executing shutdown...\n"
     ]
    }
   ],
   "source": [
    "dtale.show(df)"
   ]
  }
 ],
 "metadata": {
  "kernelspec": {
   "display_name": "base",
   "language": "python",
   "name": "python3"
  },
  "language_info": {
   "codemirror_mode": {
    "name": "ipython",
    "version": 3
   },
   "file_extension": ".py",
   "mimetype": "text/x-python",
   "name": "python",
   "nbconvert_exporter": "python",
   "pygments_lexer": "ipython3",
   "version": "3.9.12 (main, Apr  4 2022, 05:22:27) [MSC v.1916 64 bit (AMD64)]"
  },
  "orig_nbformat": 4,
  "vscode": {
   "interpreter": {
    "hash": "cdfa0ce5ff49e93277acd427286db4c9ff3f89238a63e0aa92fccb116a3e63f7"
   }
  }
 },
 "nbformat": 4,
 "nbformat_minor": 2
}
